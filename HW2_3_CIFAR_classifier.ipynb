{
  "cells": [
    {
      "cell_type": "markdown",
      "metadata": {
        "id": "P8xChkiqlLet"
      },
      "source": [
        "This can be run [run on Google Colab using this link](https://colab.research.google.com/github/CS7150/CS7150-Homework-2/blob/main/HW2_3_CIFAR_classifier.ipynb)\n",
        "# CIFAR-10 Classification (Fully-Connected vs. Convolutional)\n",
        "\n",
        "In this notebook, we will:\n",
        "1. Download **CIFAR-10** (a dataset of 32×32 color images in 10 classes).\n",
        "2. Demonstrate a working classifier using **fully-connected (FC) layers** (a simple MLP).\n",
        "3. **Exercise**: Students will create a **convolutional** version for better efficiency.\n",
        "4. Compare **parameter counts** and performance.\n",
        "\n",
        "This exercise is just an opportunity to understand the power of weight-sharing and play with a standard classification setting that for decades was a focus of machine learning researchers.\n",
        "\n",
        "Try to improve the test performance of the network without making it more expensive to train.  You will just be graded in your experiment findings at the end.\n",
        "\n",
        "**Key Points**:\n",
        "- CIFAR-10 has 60,000 images (50k train, 10k test).\n",
        "- Each image is 3×32×32 (3 color channels).\n",
        "- We’ll flatten those 3×32×32 = 3072 pixels as input to a fully-connected MLP.\n",
        "- Then we’ll invite you to use convolutional layers, which drastically reduce parameters by sharing weights.\n",
        "\n",
        "---"
      ]
    },
    {
      "cell_type": "markdown",
      "metadata": {
        "id": "b_w9x5kRlLeu"
      },
      "source": [
        "## 1. Setup\n",
        "We'll import **PyTorch**, **torchvision**, then load CIFAR-10. We’ll make small transformations (convert to tensors, normalize if desired)."
      ]
    },
    {
      "cell_type": "code",
      "execution_count": 7,
      "metadata": {
        "id": "UKdeg3nZlLev"
      },
      "outputs": [
        {
          "name": "stdout",
          "output_type": "stream",
          "text": [
            "Using device: cuda\n",
            "Files already downloaded and verified\n",
            "Files already downloaded and verified\n"
          ]
        }
      ],
      "source": [
        "import torch\n",
        "import torch.nn as nn\n",
        "import torch.nn.functional as F\n",
        "import torchvision\n",
        "import torchvision.transforms as T\n",
        "import numpy as np\n",
        "\n",
        "device = \"cuda\" if torch.cuda.is_available() else \"cpu\"\n",
        "print(\"Using device:\", device)\n",
        "\n",
        "# Basic transforms: ToTensor (range [0,1]), optional normalization.\n",
        "transform = T.Compose(\n",
        "    [\n",
        "        T.ToTensor(),\n",
        "        # Optionally normalize: T.Normalize((0.5,0.5,0.5), (0.5,0.5,0.5))\n",
        "    ]\n",
        ")\n",
        "\n",
        "# Download and create datasets\n",
        "train_dataset = torchvision.datasets.CIFAR10(\n",
        "    root=\"./data\", train=True, download=True, transform=transform\n",
        ")\n",
        "test_dataset = torchvision.datasets.CIFAR10(\n",
        "    root=\"./data\", train=False, download=True, transform=transform\n",
        ")\n",
        "\n",
        "# Dataloaders\n",
        "batch_size = 64\n",
        "train_loader = torch.utils.data.DataLoader(\n",
        "    train_dataset, batch_size=batch_size, shuffle=True, num_workers=2\n",
        ")\n",
        "test_loader = torch.utils.data.DataLoader(\n",
        "    test_dataset, batch_size=batch_size, shuffle=False, num_workers=2\n",
        ")"
      ]
    },
    {
      "cell_type": "markdown",
      "metadata": {
        "id": "qhVBc1grlLev"
      },
      "source": [
        "## 2. A Simple Fully-Connected (MLP) Classifier\n",
        "We’ll define a basic MLP:\n",
        "1. Flatten the 3×32×32 image (3072 dims).\n",
        "2. Several **fully connected layers**, then 10 outputs (one per CIFAR-10 class).\n",
        "\n",
        "We can train it for a few epochs—**this won't achieve high accuracy** (CNNs do much better), but it demonstrates the approach."
      ]
    },
    {
      "cell_type": "code",
      "execution_count": 8,
      "metadata": {
        "id": "IrzF_nJXlLev"
      },
      "outputs": [
        {
          "name": "stdout",
          "output_type": "stream",
          "text": [
            "MLP parameter count: 308310\n"
          ]
        }
      ],
      "source": [
        "class SimpleMLP(nn.Module):\n",
        "    def __init__(self, input_dim=3 * 32 * 32, hidden_dim=100, num_classes=10):\n",
        "        super().__init__()\n",
        "        # A small 2-layer MLP:\n",
        "        self.fc1 = nn.Linear(input_dim, hidden_dim)\n",
        "        self.fc2 = nn.Linear(hidden_dim, num_classes)\n",
        "\n",
        "    def forward(self, x):\n",
        "        # x: shape (batch, 3, 32, 32)\n",
        "        batch_size = x.size(0)\n",
        "        x = x.view(batch_size, -1)  # flatten\n",
        "        x = F.relu(self.fc1(x))\n",
        "        x = self.fc2(x)\n",
        "        return x\n",
        "\n",
        "\n",
        "mlp = SimpleMLP().to(device)\n",
        "print(\n",
        "    \"MLP parameter count:\", sum(p.numel() for p in mlp.parameters() if p.requires_grad)\n",
        ")"
      ]
    },
    {
      "cell_type": "markdown",
      "metadata": {
        "id": "2XcCfMLLlLev"
      },
      "source": [
        "### 2.1 Training Loop\n",
        "We define a simple function `train_epoch` and `test_accuracy` to measure performance."
      ]
    },
    {
      "cell_type": "code",
      "execution_count": 9,
      "metadata": {
        "id": "uoexYXvIlLev"
      },
      "outputs": [],
      "source": [
        "import torch.optim as optim\n",
        "\n",
        "\n",
        "def train_epoch(model, loader, optimizer, loss_fn=nn.CrossEntropyLoss()):\n",
        "    model.train()\n",
        "    total_loss = 0.0\n",
        "    for images, labels in loader:\n",
        "        images, labels = images.to(device), labels.to(device)\n",
        "        optimizer.zero_grad()\n",
        "        preds = model(images)\n",
        "        loss = loss_fn(preds, labels)\n",
        "        loss.backward()\n",
        "        optimizer.step()\n",
        "        total_loss += loss.item()\n",
        "    return total_loss / len(loader)\n",
        "\n",
        "\n",
        "def test_accuracy(model, loader):\n",
        "    model.eval()\n",
        "    correct = 0\n",
        "    total = 0\n",
        "    with torch.no_grad():\n",
        "        for images, labels in loader:\n",
        "            images, labels = images.to(device), labels.to(device)\n",
        "            preds = model(images)\n",
        "            predicted = preds.argmax(dim=1)\n",
        "            correct += (predicted == labels).sum().item()\n",
        "            total += labels.size(0)\n",
        "    return 100.0 * correct / total"
      ]
    },
    {
      "cell_type": "markdown",
      "metadata": {
        "id": "fa5vL1-elLev"
      },
      "source": [
        "Now let's do a short training run on the MLP—**note** that this won't get anywhere close to SOTA accuracy on CIFAR-10, but it demonstrates the pipeline. We'll do maybe **2** or **3** epochs just to see it learns something."
      ]
    },
    {
      "cell_type": "code",
      "execution_count": 23,
      "metadata": {
        "id": "xonWX3m5lLev"
      },
      "outputs": [
        {
          "name": "stdout",
          "output_type": "stream",
          "text": [
            "Epoch 1/3, train loss=1.8783, test acc=36.24%\n",
            "Epoch 2/3, train loss=1.7282, test acc=41.13%\n",
            "Epoch 3/3, train loss=1.6665, test acc=42.35%\n"
          ]
        }
      ],
      "source": [
        "mlp = SimpleMLP().to(device)\n",
        "optimizer = optim.Adam(mlp.parameters(), lr=1e-3)\n",
        "\n",
        "epochs = 3  # can increase if you want\n",
        "for epoch in range(1, epochs + 1):\n",
        "    train_loss = train_epoch(mlp, train_loader, optimizer)\n",
        "    test_acc = test_accuracy(mlp, test_loader)\n",
        "    print(\n",
        "        f\"Epoch {epoch}/{epochs}, train loss={train_loss:.4f}, test acc={test_acc:.2f}%\"\n",
        "    )"
      ]
    },
    {
      "cell_type": "markdown",
      "metadata": {
        "id": "ZU6VLKrIlLew"
      },
      "source": [
        "## 3. Exercise: Use a Stack of Convolutions\n",
        "\n",
        "CIFAR-10 was **designed** with 2D images in mind, so we can do **far better** with **convolutional** layers that share weights locally.\n",
        "\n",
        "### Your Tasks\n",
        "1. **Construct** a new network (say `ConvNet`) with multiple convolutional layers, optional pooling, etc.\n",
        "2. **Count** the number of parameters. *(Hint: `sum(p.numel() for p in model.parameters() if p.requires_grad)`.)*\n",
        "3. **Train** this model on CIFAR-10. Try to achieve comparable or better accuracy than the MLP **with fewer parameters**.\n",
        "\n",
        "### Suggested Skeleton Code\n",
        "Below is a minimal skeleton. Feel free to modify layer dimensions, add pooling, or add more conv layers. We provide the class structure for you to fill in."
      ]
    },
    {
      "cell_type": "code",
      "execution_count": 49,
      "metadata": {},
      "outputs": [],
      "source": [
        "class ConvNet(nn.Module):\n",
        "    def __init__(self, num_classes=10):\n",
        "        super().__init__()\n",
        "        # define your convolutional layers here.\n",
        "        # e.g.\n",
        "        # self.conv1 = nn.Conv2d(in_channels=3, out_channels=8, kernel_size=3, padding=1)\n",
        "        # self.pool = nn.MaxPool2d(2,2)\n",
        "        # etc.\n",
        "        # Then define a final linear layer.\n",
        "        # You have to figure out the shape after the conv layers.\n",
        "\n",
        "        self.conv1 = nn.Conv2d(3, 8, kernel_size=3, padding=1)\n",
        "        self.conv2 = nn.Conv2d(8, 16, kernel_size=3, padding=1)\n",
        "        self.pool = nn.MaxPool2d(2, 2)\n",
        "        # after 2 conv+pool steps, etc...\n",
        "        # But let's suppose we do only 1 pool, etc.\n",
        "\n",
        "        self.fc = nn.Linear(16 * 16 * 16, num_classes)  # Just a guess of dimensions.\n",
        "\n",
        "    def forward(self, x):\n",
        "        # x: (batch, 3, 32, 32)\n",
        "        x = F.relu(self.conv1(x))  # (batch,8,32,32)\n",
        "        x = self.pool(F.relu(self.conv2(x)))  # (batch,16,16,16)\n",
        "        # flatten\n",
        "        batch_size = x.size(0)\n",
        "        x = x.view(batch_size, -1)\n",
        "        x = self.fc(x)\n",
        "        return x"
      ]
    },
    {
      "cell_type": "code",
      "execution_count": 50,
      "metadata": {},
      "outputs": [
        {
          "name": "stdout",
          "output_type": "stream",
          "text": [
            "ConvNet param count: 42362\n",
            "[ConvNet] Epoch 1/3, train loss=1.5448, test acc=53.37%\n",
            "[ConvNet] Epoch 2/3, train loss=1.2001, test acc=60.35%\n",
            "[ConvNet] Epoch 3/3, train loss=1.0696, test acc=61.75%\n"
          ]
        }
      ],
      "source": [
        "# STUDENT EXERCISE:\n",
        "convnet = ConvNet().to(device)\n",
        "print(\n",
        "    \"ConvNet param count:\",\n",
        "    sum(p.numel() for p in convnet.parameters() if p.requires_grad),\n",
        ")\n",
        "\n",
        "optimizer_conv = optim.Adam(convnet.parameters(), lr=1e-3)\n",
        "epochs_conv = 3\n",
        "for epoch in range(1, epochs_conv + 1):\n",
        "    train_loss = train_epoch(convnet, train_loader, optimizer_conv)\n",
        "    test_acc = test_accuracy(convnet, test_loader)\n",
        "    print(\n",
        "        f\"[ConvNet] Epoch {epoch}/{epochs_conv}, train loss={train_loss:.4f}, test acc={test_acc:.2f}%\"\n",
        "    )\n",
        "\n",
        "# print(\n",
        "#     \"\\nNow consider adjusting your ConvNet architecture, parameter count, etc. for better results.\"\n",
        "# )"
      ]
    },
    {
      "cell_type": "markdown",
      "metadata": {
        "id": "PLbtVVyNlLew"
      },
      "source": [
        "### 3.1 Code: Train Your ConvNet\n",
        "**Exercise**: Implement the training loop (similar to the MLP), measure test accuracy, and see how you can reduce or increase parameters to trade off accuracy vs. model size.\n",
        "\n",
        "Examples:\n",
        "- Add more conv layers or channels.\n",
        "- Add more or fewer pooling layers.\n",
        "- Print out the param count.\n",
        "- Play with other architectural tricks such as residual connections.\n",
        "- Tweak the learning rate or optimizer.\n",
        "\n",
        "Try to see how low you can go in param count while maintaining a decent accuracy!"
      ]
    },
    {
      "cell_type": "markdown",
      "metadata": {},
      "source": [
        "#### Plain ConvNet"
      ]
    },
    {
      "cell_type": "code",
      "execution_count": 46,
      "metadata": {},
      "outputs": [],
      "source": [
        "class ConvNet(nn.Module):\n",
        "    def __init__(self, num_classes=10):\n",
        "        super().__init__()\n",
        "        # define your convolutional layers here.\n",
        "        # e.g.\n",
        "        # self.conv1 = nn.Conv2d(in_channels=3, out_channels=8, kernel_size=3, padding=1)\n",
        "        # self.pool = nn.MaxPool2d(2,2)\n",
        "        # etc.\n",
        "        # Then define a final linear layer.\n",
        "        # You have to figure out the shape after the conv layers.\n",
        "        self.conv1 = nn.Conv2d(3, 32, kernel_size=3, padding=1)\n",
        "        self.conv2 = nn.Conv2d(32, 32, kernel_size=3, padding=1)\n",
        "        self.pool1 = nn.MaxPool2d(2, 2)\n",
        "        self.conv3 = nn.Conv2d(32, 64, kernel_size=3, padding=1)\n",
        "        self.conv4 = nn.Conv2d(64, 64, kernel_size=3, padding=1)\n",
        "        self.conv5 = nn.Conv2d(64, 64, kernel_size=3, padding=1)\n",
        "        self.avgpool = nn.AvgPool2d(2, 2)\n",
        "\n",
        "        self.fc = nn.Linear(64 * 8 * 8, num_classes)\n",
        "\n",
        "        # after 2 conv+pool steps, etc...\n",
        "        # But let's suppose we do only 1 pool, etc.\n",
        "\n",
        "    def forward(self, x):\n",
        "        # x: (batch, 3, 32, 32)\n",
        "        x = F.relu(self.conv1(x))  # (batch,8,32,32)\n",
        "        x = F.relu(self.conv2(x))  # (batch,8,32,32)\n",
        "        x = self.pool1(x)\n",
        "        x = F.relu(self.conv3(x))\n",
        "        x = F.relu(self.conv4(x))\n",
        "        x = F.relu(self.conv5(x))\n",
        "        x = self.avgpool(x)\n",
        "\n",
        "        # flatten\n",
        "        batch_size = x.size(0)\n",
        "        x = x.view(batch_size, -1)\n",
        "        x = self.fc(x)\n",
        "        return x"
      ]
    },
    {
      "cell_type": "code",
      "execution_count": 47,
      "metadata": {},
      "outputs": [
        {
          "name": "stdout",
          "output_type": "stream",
          "text": [
            "ConvNet param count: 143466\n",
            "[ConvNet] Epoch 1/3, train loss=1.5962, test acc=52.24%\n",
            "[ConvNet] Epoch 2/3, train loss=1.1431, test acc=63.08%\n",
            "[ConvNet] Epoch 3/3, train loss=0.9626, test acc=66.47%\n"
          ]
        }
      ],
      "source": [
        "# STUDENT EXERCISE:\n",
        "convnet = ConvNet().to(device)\n",
        "print(\n",
        "    \"ConvNet param count:\",\n",
        "    sum(p.numel() for p in convnet.parameters() if p.requires_grad),\n",
        ")\n",
        "\n",
        "optimizer_conv = optim.Adam(convnet.parameters(), lr=1e-3)\n",
        "epochs_conv = 3\n",
        "for epoch in range(1, epochs_conv + 1):\n",
        "    train_loss = train_epoch(convnet, train_loader, optimizer_conv)\n",
        "    test_acc = test_accuracy(convnet, test_loader)\n",
        "    print(\n",
        "        f\"[ConvNet] Epoch {epoch}/{epochs_conv}, train loss={train_loss:.4f}, test acc={test_acc:.2f}%\"\n",
        "    )\n",
        "\n",
        "# print(\n",
        "#     \"\\nNow consider adjusting your ConvNet architecture, parameter count, etc. for better results.\"\n",
        "# )"
      ]
    },
    {
      "cell_type": "markdown",
      "metadata": {},
      "source": [
        "#### Minimize # of param while keeping similar acc with bottleneck resblocks"
      ]
    },
    {
      "cell_type": "code",
      "execution_count": 34,
      "metadata": {},
      "outputs": [],
      "source": [
        "class BottleneckResBlock(nn.Module):\n",
        "    def __init__(self, in_channels, bottleneck_channels, out_channels):\n",
        "        \"\"\"\n",
        "        Args:\n",
        "            in_channels (int): Number of input channels.\n",
        "            bottleneck_channels (int): Number of channels in the middle convs.\n",
        "            out_channels (int): Number of output channels.\n",
        "        \"\"\"\n",
        "        super(BottleneckResBlock, self).__init__()\n",
        "\n",
        "        # 1x1 convolution\n",
        "        self.conv1 = nn.Conv2d(\n",
        "            in_channels, bottleneck_channels, kernel_size=1, bias=False\n",
        "        )\n",
        "        self.bn1 = nn.BatchNorm2d(bottleneck_channels)\n",
        "\n",
        "        # 3x3 convolution\n",
        "        self.conv2 = nn.Conv2d(\n",
        "            bottleneck_channels,\n",
        "            bottleneck_channels,\n",
        "            kernel_size=3,\n",
        "            padding=1,\n",
        "            bias=False,\n",
        "        )\n",
        "        self.bn2 = nn.BatchNorm2d(bottleneck_channels)\n",
        "\n",
        "        # 1x1 convolution\n",
        "        self.conv3 = nn.Conv2d(\n",
        "            bottleneck_channels, out_channels, kernel_size=1, bias=False\n",
        "        )\n",
        "        self.bn3 = nn.BatchNorm2d(out_channels)\n",
        "\n",
        "        # ReLU\n",
        "        self.relu = nn.ReLU(inplace=True)\n",
        "\n",
        "        # If in_channels != out_channels, we need a projection (1x1) for the skip\n",
        "        if in_channels != out_channels:\n",
        "            self.shortcut = nn.Sequential(\n",
        "                nn.Conv2d(in_channels, out_channels, kernel_size=1, bias=False),\n",
        "                nn.BatchNorm2d(out_channels),\n",
        "            )\n",
        "        else:\n",
        "            self.shortcut = nn.Identity()  # Use `Identity` if dimensions match\n",
        "\n",
        "    def forward(self, x):\n",
        "        identity = x\n",
        "\n",
        "        out = self.conv1(x)\n",
        "        out = self.bn1(out)\n",
        "        out = self.relu(out)\n",
        "\n",
        "        out = self.conv2(out)\n",
        "        out = self.bn2(out)\n",
        "        out = self.relu(out)\n",
        "\n",
        "        out = self.conv3(out)\n",
        "        out = self.bn3(out)\n",
        "\n",
        "        # Apply shortcut if needed\n",
        "        identity = self.shortcut(identity)\n",
        "\n",
        "        # Residual addition\n",
        "        out += identity\n",
        "\n",
        "        # Final ReLU\n",
        "        out = self.relu(out)\n",
        "\n",
        "        return out"
      ]
    },
    {
      "cell_type": "code",
      "execution_count": 51,
      "metadata": {},
      "outputs": [],
      "source": [
        "class ConvNet(nn.Module):\n",
        "    def __init__(self, num_classes=10):\n",
        "        super().__init__()\n",
        "        # define your convolutional layers here.\n",
        "        # e.g.\n",
        "        # self.conv1 = nn.Conv2d(in_channels=3, out_channels=8, kernel_size=3, padding=1)\n",
        "        # self.pool = nn.MaxPool2d(2,2)\n",
        "        # etc.\n",
        "        # Then define a final linear layer.\n",
        "        # You have to figure out the shape after the conv layers.\n",
        "\n",
        "        self.block1 = BottleneckResBlock(3, 8, 16)\n",
        "        self.block2 = BottleneckResBlock(16, 8, 16)\n",
        "        self.pool1 = nn.MaxPool2d(2, 2)\n",
        "        self.block3 = BottleneckResBlock(16, 16, 32)\n",
        "        self.block4 = BottleneckResBlock(32, 16, 32)\n",
        "        self.block5 = BottleneckResBlock(32, 16, 32)\n",
        "        self.avgpool = nn.AdaptiveAvgPool2d((8, 8))\n",
        "\n",
        "        # after 2 conv+pool steps, etc...\n",
        "        # But let's suppose we do only 1 pool, etc.\n",
        "\n",
        "        self.fc = nn.Linear(32 * 8 * 8, num_classes)\n",
        "\n",
        "    def forward(self, x):\n",
        "        # x: (batch, 3, 32, 32)\n",
        "        x = self.block1(x)  # (batch, 16, 32, 32)\n",
        "        x = self.block2(x)  # (batch, 16, 32, 32)\n",
        "        x = self.pool1(x)  # (batch, 16, 16, 16)\n",
        "        x = self.block3(x)  # (batch, 32, 16, 16)\n",
        "        x = self.block4(x)  # (batch, 32, 16, 16)\n",
        "        x = self.block5(x)  # (batch, 32, 16, 16)\n",
        "        x = self.avgpool(x)  # (batch, 32, 8, 8)\n",
        "\n",
        "        # flatten\n",
        "        batch_size = x.size(0)\n",
        "        x = x.view(batch_size, -1)\n",
        "        x = self.fc(x)\n",
        "        return x"
      ]
    },
    {
      "cell_type": "code",
      "execution_count": 52,
      "metadata": {
        "id": "j9D9VcwBlLew"
      },
      "outputs": [
        {
          "name": "stdout",
          "output_type": "stream",
          "text": [
            "ConvNet param count: 32946\n",
            "[ConvNet] Epoch 1/3, train loss=1.4450, test acc=56.19%\n",
            "[ConvNet] Epoch 2/3, train loss=1.0936, test acc=62.19%\n",
            "[ConvNet] Epoch 3/3, train loss=0.9506, test acc=66.62%\n"
          ]
        }
      ],
      "source": [
        "# STUDENT EXERCISE:\n",
        "convnet = ConvNet().to(device)\n",
        "print(\n",
        "    \"ConvNet param count:\",\n",
        "    sum(p.numel() for p in convnet.parameters() if p.requires_grad),\n",
        ")\n",
        "\n",
        "optimizer_conv = optim.Adam(convnet.parameters(), lr=1e-3)\n",
        "epochs_conv = 3\n",
        "for epoch in range(1, epochs_conv + 1):\n",
        "    train_loss = train_epoch(convnet, train_loader, optimizer_conv)\n",
        "    test_acc = test_accuracy(convnet, test_loader)\n",
        "    print(\n",
        "        f\"[ConvNet] Epoch {epoch}/{epochs_conv}, train loss={train_loss:.4f}, test acc={test_acc:.2f}%\"\n",
        "    )\n",
        "\n",
        "# print(\n",
        "#     \"\\nNow consider adjusting your ConvNet architecture, parameter count, etc. for better results.\"\n",
        "# )"
      ]
    },
    {
      "cell_type": "markdown",
      "metadata": {},
      "source": [
        "### Maximizing Acc while keeping # of param around the same"
      ]
    },
    {
      "cell_type": "code",
      "execution_count": 59,
      "metadata": {
        "id": "fS5CZ28XlLew"
      },
      "outputs": [],
      "source": [
        "class ConvNet(nn.Module):\n",
        "    def __init__(self, num_classes=10):\n",
        "        super().__init__()\n",
        "        # define your convolutional layers here.\n",
        "        # e.g.\n",
        "        # self.conv1 = nn.Conv2d(in_channels=3, out_channels=8, kernel_size=3, padding=1)\n",
        "        # self.pool = nn.MaxPool2d(2,2)\n",
        "        # etc.\n",
        "        # Then define a final linear layer.\n",
        "        # You have to figure out the shape after the conv layers.\n",
        "\n",
        "        self.block1 = BottleneckResBlock(3, 16, 32)\n",
        "        self.block2 = BottleneckResBlock(32, 16, 32)\n",
        "        self.pool1 = nn.MaxPool2d(2, 2)\n",
        "        self.block3 = BottleneckResBlock(32, 32, 64)\n",
        "        self.block4 = BottleneckResBlock(64, 32, 64)\n",
        "        self.block5 = BottleneckResBlock(64, 64, 64)\n",
        "        self.avgpool = nn.AdaptiveAvgPool2d((8, 8))\n",
        "\n",
        "        # after 2 conv+pool steps, etc...\n",
        "        # But let's suppose we do only 1 pool, etc.\n",
        "\n",
        "        self.fc = nn.Linear(64 * 8 * 8, num_classes)\n",
        "\n",
        "    def forward(self, x):\n",
        "        # x: (batch, 3, 32, 32)\n",
        "        x = self.block1(x)  # (batch, 32, 32, 32)\n",
        "        x = self.block2(x)  # (batch, 32, 32, 32)\n",
        "        x = self.pool1(x)  # (batch, 32, 16, 16)\n",
        "        x = self.block3(x)  # (batch, 64, 16, 16)\n",
        "        x = self.block4(x)  # (batch, 64, 16, 16)\n",
        "        x = self.block5(x)  # (batch, 64, 16, 16)\n",
        "        x = self.avgpool(x)  # (batch, 64, 8, 8)\n",
        "\n",
        "        # flatten\n",
        "        batch_size = x.size(0)\n",
        "        x = x.view(batch_size, -1)\n",
        "        x = self.fc(x)\n",
        "        return x"
      ]
    },
    {
      "cell_type": "code",
      "execution_count": 60,
      "metadata": {},
      "outputs": [
        {
          "name": "stdout",
          "output_type": "stream",
          "text": [
            "ConvNet param count: 121306\n",
            "[ConvNet] Epoch 1/3, train loss=1.3278, test acc=65.04%\n",
            "[ConvNet] Epoch 2/3, train loss=0.8844, test acc=69.51%\n",
            "[ConvNet] Epoch 3/3, train loss=0.7386, test acc=73.01%\n"
          ]
        }
      ],
      "source": [
        "# STUDENT EXERCISE:\n",
        "convnet = ConvNet().to(device)\n",
        "print(\n",
        "    \"ConvNet param count:\",\n",
        "    sum(p.numel() for p in convnet.parameters() if p.requires_grad),\n",
        ")\n",
        "\n",
        "optimizer_conv = optim.Adam(convnet.parameters(), lr=1e-3)\n",
        "epochs_conv = 3\n",
        "for epoch in range(1, epochs_conv + 1):\n",
        "    train_loss = train_epoch(convnet, train_loader, optimizer_conv)\n",
        "    test_acc = test_accuracy(convnet, test_loader)\n",
        "    print(\n",
        "        f\"[ConvNet] Epoch {epoch}/{epochs_conv}, train loss={train_loss:.4f}, test acc={test_acc:.2f}%\"\n",
        "    )\n",
        "\n",
        "# print(\n",
        "#     \"\\nNow consider adjusting your ConvNet architecture, parameter count, etc. for better results.\"\n",
        "# )"
      ]
    },
    {
      "cell_type": "markdown",
      "metadata": {
        "id": "d_AGuN8_lLew"
      },
      "source": [
        "## 4. Report Your Findings\n",
        "\n",
        "Points to understand:\n",
        "\n",
        "1. A **fully-connected** approach to image classification (such as CIFAR-10) can work but tends to have **many** parameters (e.g., 3,072×100 just in one layer on tiny images) and typically yields lower accuracy compared to modern **Convolutional** architectures.\n",
        "2. **Convolution** drastically reduces parameter counts via **weight sharing**, can often achieve much higher accuracy on image tasks, and is typically *translation-equivariant*.\n",
        "3. Your goal is to **experiment** with different conv net designs to minimize param count while maximizing accuracy.\n",
        "\n",
        "Report here at least two iterations of your architectural experiments:\n",
        "\n",
        "1. Using an architecture consisting of $\\fbox{convolution, max pool, average pool}$, I was able to reduce the parameterization to $\\fbox{143466}$ parameters and achieve test accuracy of $\\fbox{66.47\\%}$ after three epochs of training.\n",
        "\n",
        "2. In a second test, I tried an architecture consisting of $\\fbox{all above + residual bottleneck blocks + batch norm}$.  That used an even smaller parameterization, with only $\\fbox{32946}$ parameters, and it achieved test accuracy of $\\fbox{66.62\\%}$ after three epochs of training.\n",
        "\n",
        "3. In the third test, I tried to increase the dimension of residual blocks, using $\\fbox{121306}$ parameters, and it achieved test accuracy of $\\fbox{73.01\\%}$ after three epochs of training.\n",
        "\n",
        "Good luck!"
      ]
    }
  ],
  "metadata": {
    "accelerator": "TPU",
    "colab": {
      "gpuType": "V28",
      "machine_shape": "hm",
      "provenance": []
    },
    "kernelspec": {
      "display_name": "cs7150",
      "language": "python",
      "name": "python3"
    },
    "language_info": {
      "codemirror_mode": {
        "name": "ipython",
        "version": 3
      },
      "file_extension": ".py",
      "mimetype": "text/x-python",
      "name": "python",
      "nbconvert_exporter": "python",
      "pygments_lexer": "ipython3",
      "version": "3.10.6"
    },
    "name": "CIFAR10_Classifier_FC_vs_Conv"
  },
  "nbformat": 4,
  "nbformat_minor": 0
}
